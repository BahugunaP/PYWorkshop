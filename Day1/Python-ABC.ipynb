{
 "cells": [
  {
   "cell_type": "markdown",
   "metadata": {},
   "source": [
    "## Hands-On Lab \n",
    "My Dear Student! \n",
    "\n",
    "Let me tell you the best way to learn python is, practice!\n",
    "Let's do this small hands-on exercise together with me to understand Python essentials \n",
    "\n",
    "All the best! The fate of the mission is in your hands.\n",
    "\n",
    "## Why you will learn in this hands-on exercise?\n",
    "Python's power. You will learn how the cocepts of Python, you will be applying the following concepts:\n",
    "\n",
    "- variable\n",
    "- Data types(number, string, boolean, list, dictionary) \n",
    "- Conditional statements\n",
    "- loop\n",
    "- Functions"
   ]
  },
  {
   "cell_type": "markdown",
   "metadata": {},
   "source": [
    "### Task 1\n",
    "\n",
    "**A college is maintaining operations of a college (IET-North Engineering College) through a software. This software captures and maintain college_name, year_of_establishment, address, courses and degrees, pincode.\n",
    "With respect to area pincode college has different facilities to engage the students**\n",
    "\n",
    "#### Instructions:\n",
    "\n",
    "* write down the variables the software program will use \n",
    "* Initialize the variables with required set of data  \n",
    "* print the college name and year of establishment"
   ]
  },
  {
   "cell_type": "code",
   "execution_count": null,
   "metadata": {},
   "outputs": [],
   "source": []
  },
  {
   "cell_type": "markdown",
   "metadata": {},
   "source": [
    "### Task 2\n",
    "\n",
    "**College management has decided to crate a new holdings to show all courses offered by college. \n",
    "So, for this let's print all courses offered by college**\n"
   ]
  },
  {
   "cell_type": "code",
   "execution_count": null,
   "metadata": {},
   "outputs": [],
   "source": []
  },
  {
   "cell_type": "markdown",
   "metadata": {},
   "source": [
    "### Task 3\n",
    "\n",
    "**Add a new new recently added facility `digital library`**\n"
   ]
  },
  {
   "cell_type": "code",
   "execution_count": null,
   "metadata": {},
   "outputs": [],
   "source": []
  },
  {
   "cell_type": "markdown",
   "metadata": {},
   "source": [
    "### Task 4\n",
    "\n",
    "**One of the degree course is closed by college in year 2020-21. Remove that degree from list of degree courses.** \n",
    "**Add one degree course which is newly introduced**"
   ]
  },
  {
   "cell_type": "code",
   "execution_count": null,
   "metadata": {},
   "outputs": [],
   "source": []
  },
  {
   "cell_type": "markdown",
   "metadata": {},
   "source": [
    "### Task 5\n",
    "\n",
    "**One interesting thing about college is, for security reasons, there are 3 gates in college but the name of each gate is the square the number from 1 to 3**\n",
    "\n",
    "#### Instructions:\n",
    "* explanation: the names of Gate(1,2,3) are Gate1, Gate4, Gate9 repectively\n",
    "* print all Gates name "
   ]
  },
  {
   "cell_type": "code",
   "execution_count": null,
   "metadata": {},
   "outputs": [],
   "source": []
  },
  {
   "cell_type": "markdown",
   "metadata": {},
   "source": [
    "## Task 6\n",
    "**Check if the name of the College is greater than of 10 characters, take first word as college name for any print media** "
   ]
  },
  {
   "cell_type": "code",
   "execution_count": null,
   "metadata": {},
   "outputs": [],
   "source": []
  },
  {
   "cell_type": "markdown",
   "metadata": {},
   "source": [
    "## Home Exercises\n",
    "\n",
    "### Task 7\n",
    "\n",
    "**Let's create a dictionary for `Tom Berry` in each subject to generate his progress report.** \n",
    "\n",
    "\n",
    "\n",
    "#### Instructions\n",
    "\n",
    "* Create a dictionary named `'courses'` using the keys and values given below\n",
    "\n",
    "\n",
    "|course|marks|\n",
    "|-----|-----|\n",
    "|Math|65|\n",
    "|English|70|\n",
    "|History|80|\n",
    "|French|70|\n",
    "|Science|60|\n",
    "\n",
    "* Print the marks obtained in each subject.\n",
    " \n",
    "* Sum all the marks scored out of 100 and store it in a variable named `'total_marks'`.\n",
    "\n",
    "\n",
    "* Print `'total_marks'`.\n",
    "\n",
    "\n",
    "* Calculate the `'perntage'` scored by `'Tom Berry'` where addition of all the subjects is `500`.\n",
    "\n",
    "\n",
    "* Print the `'perntage'`.\n",
    "\n"
   ]
  },
  {
   "cell_type": "code",
   "execution_count": null,
   "metadata": {},
   "outputs": [],
   "source": []
  },
  {
   "cell_type": "markdown",
   "metadata": {},
   "source": [
    "### Task 8\n",
    "\n",
    "**From the previous task, we know who is the 'Maths' topper in the class. You now have to print the name of the student on the certificate, but you will have to print his last name and then his first name.** \n",
    "\n",
    "\n",
    "## Instructions\n",
    "\n",
    "* String name `'topper'` with the Math topper's name is given.\n",
    "\n",
    "\n",
    "* Split the `'topper'` using the `\"split()\"` function and store the results in `'first_name'` and `'last_name'`.\n",
    "\n",
    "***\n",
    "    --Hint: Use split function:\n",
    "    \n",
    "\n",
    "*  Display the full name concatenating `+` the strings `'last_name'` and `'first_name'` strings. Don't forget to add a whitespace character between them to avoid displaying them together and store it in a `full_name` variable .\n",
    "\n",
    "\n",
    "* Convert all the elements in the `'full_name'`string to uppercase, and store it to the `'certificate_name'` variable.\n",
    "\n",
    "\n",
    "* Print `'certificate_name'`."
   ]
  },
  {
   "cell_type": "code",
   "execution_count": null,
   "metadata": {},
   "outputs": [],
   "source": []
  }
 ],
 "metadata": {
  "kernelspec": {
   "display_name": "Python 3",
   "language": "python",
   "name": "python3"
  },
  "language_info": {
   "codemirror_mode": {
    "name": "ipython",
    "version": 3
   },
   "file_extension": ".py",
   "mimetype": "text/x-python",
   "name": "python",
   "nbconvert_exporter": "python",
   "pygments_lexer": "ipython3",
   "version": "3.8.3"
  }
 },
 "nbformat": 4,
 "nbformat_minor": 4
}
